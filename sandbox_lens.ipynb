{
 "cells": [
  {
   "cell_type": "code",
   "execution_count": 1,
   "id": "64a7eb1708070083",
   "metadata": {
    "ExecuteTime": {
     "end_time": "2024-09-01T10:41:00.041179Z",
     "start_time": "2024-09-01T10:40:49.783052Z"
    }
   },
   "outputs": [],
   "source": [
    "import torch\n",
    "from box import Box\n",
    "import os"
   ]
  }
 ],
 "metadata": {
  "kernelspec": {
   "display_name": "Python 3 (ipykernel)",
   "language": "python",
   "name": "python3"
  },
  "language_info": {
   "codemirror_mode": {
    "name": "ipython",
    "version": 3
   },
   "file_extension": ".py",
   "mimetype": "text/x-python",
   "name": "python",
   "nbconvert_exporter": "python",
   "pygments_lexer": "ipython3",
   "version": "3.9.16"
  }
 },
 "nbformat": 4,
 "nbformat_minor": 5
}
