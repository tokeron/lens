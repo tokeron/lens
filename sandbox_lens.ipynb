{
 "cells": [
  {
   "cell_type": "code",
   "execution_count": 1,
   "id": "64a7eb1708070083",
   "metadata": {
    "ExecuteTime": {
     "end_time": "2024-09-01T10:41:00.041179Z",
     "start_time": "2024-09-01T10:40:49.783052Z"
    }
   },
   "outputs": [
    {
     "name": "stderr",
     "output_type": "stream",
     "text": [
      "/home/tok/miniconda3/envs/lens/lib/python3.9/site-packages/tqdm/auto.py:21: TqdmWarning: IProgress not found. Please update jupyter and ipywidgets. See https://ipywidgets.readthedocs.io/en/stable/user_install.html\n",
      "  from .autonotebook import tqdm as notebook_tqdm\n",
      "/home/tok/miniconda3/envs/lens/lib/python3.9/site-packages/diffusers/models/transformers/transformer_2d.py:34: FutureWarning: `Transformer2DModelOutput` is deprecated and will be removed in version 1.0.0. Importing `Transformer2DModelOutput` from `diffusers.models.transformer_2d` is deprecated and this will be removed in a future version. Please use `from diffusers.models.modeling_outputs import Transformer2DModelOutput`, instead.\n",
      "  deprecate(\"Transformer2DModelOutput\", \"1.0.0\", deprecation_message)\n"
     ]
    }
   ],
   "source": [
    "from diffusers_wrapper import StableDiffusion3TextToImage, FluxTextToImage, StableDiffusion2TextToImage, StableDiffusionXLPipelineTextToImage\n",
    "import os"
   ]
  },
  {
   "cell_type": "code",
   "execution_count": 2,
   "id": "b5c4d621",
   "metadata": {},
   "outputs": [],
   "source": [
    "num_images = 4\n",
    "main_output_path = 'output'\n",
    "model_name = 'sd3' # 'sd2' or 'sd3' or 'sdxl' or 'flux-dev' or 'flux-schnell'\n",
    "max_sequence_lengths ={\n",
    "    'sd2': 77,\n",
    "    'sd3': 77,\n",
    "    'sdxl': 256,\n",
    "    'flux-dev': 512,\n",
    "    'flux-schnell': 256\n",
    "}\n",
    "max_sequence_length = max_sequence_lengths[model_name]"
   ]
  },
  {
   "cell_type": "code",
   "execution_count": 3,
   "id": "25b9447f",
   "metadata": {},
   "outputs": [
    {
     "name": "stderr",
     "output_type": "stream",
     "text": [
      "Loading checkpoint shards: 100%|██████████| 2/2 [00:16<00:00,  8.45s/it]s/it]\n",
      "Loading pipeline components...:  89%|████████▉ | 8/9 [00:26<00:06,  6.44s/it]You set `add_prefix_space`. The tokenizer needs to be converted from the slow tokenizers\n",
      "Loading pipeline components...: 100%|██████████| 9/9 [00:27<00:00,  3.03s/it]\n"
     ]
    }
   ],
   "source": [
    "\n",
    "if 'flux' in model_name:\n",
    "    ckpt_dir = ''\n",
    "    model_class = FluxTextToImage(model_name=model_name, ckpt_dir=ckpt_dir, num_images=num_images, \n",
    "                                  max_sequence_length=max_sequence_length)\n",
    "elif model_name == 'sd2':\n",
    "    model_name = model_name\n",
    "    ckpt_dir = ''\n",
    "    model_class = StableDiffusion2TextToImage(model_name=model_name, ckpt_dir=ckpt_dir, num_images=num_images)\n",
    "elif model_name == 'sd3':\n",
    "    model_name = model_name\n",
    "    ckpt_dir = ''\n",
    "    model_class = StableDiffusion3TextToImage(model_name=model_name, ckpt_dir=ckpt_dir, num_images=num_images, \n",
    "                                              max_sequence_length=max_sequence_length) \n",
    "elif model_name == 'sdxl':\n",
    "    model_name = model_name\n",
    "    ckpt_dir = ''\n",
    "    model_class = StableDiffusionXLPipelineTextToImage(model_name=model_name, ckpt_dir=ckpt_dir, num_images=num_images, \n",
    "                                                       max_sequence_length=max_sequence_length)\n",
    "else:\n",
    "    raise ValueError(\"Model name not found\")\n"
   ]
  },
  {
   "cell_type": "code",
   "execution_count": null,
   "id": "b0546e04",
   "metadata": {},
   "outputs": [],
   "source": [
    "skip_layers = 0\n",
    "return_grids = True\n",
    "# full is the full range of tokens with padas - remove if you dont need images from this range\n",
    "# tokens is the range of tokens without padas - remove if you dont need images from this range\n",
    "# specific_tokens - if you want images from specific tokens, \n",
    "ranges_to_keep = ['full', 'tokens', 'specific_tokens']\n",
    "\n",
    "prompts = [\n",
    "    'kids playing in the playground',\n",
    "]\n",
    "# each list would results in generating images fro, the tokens in the list only. If you want to generate image from each prompt, pass a list for each prompt\n",
    "specific_tokens_per_prompt = [\n",
    "    ['playground', 'playing']\n",
    "]\n"
   ]
  },
  {
   "cell_type": "code",
   "execution_count": null,
   "id": "38fef12a",
   "metadata": {},
   "outputs": [
    {
     "name": "stdout",
     "output_type": "stream",
     "text": [
      "generating images for prompt: kids playing in the playground\n",
      "Validated skip_layers: [0, 0, 0]\n",
      "Getting ranges for tokenizer\n",
      "Getting ranges for tokenizer_2\n",
      "Getting ranges for tokenizer_3\n"
     ]
    },
    {
     "ename": "TypeError",
     "evalue": "__call__() got an unexpected keyword argument 'skip_tokens'",
     "output_type": "error",
     "traceback": [
      "\u001b[0;31m---------------------------------------------------------------------------\u001b[0m",
      "\u001b[0;31mTypeError\u001b[0m                                 Traceback (most recent call last)",
      "Cell \u001b[0;32mIn[5], line 6\u001b[0m\n\u001b[1;32m      4\u001b[0m output_path \u001b[38;5;241m=\u001b[39m \u001b[38;5;124mf\u001b[39m\u001b[38;5;124m'\u001b[39m\u001b[38;5;132;01m{\u001b[39;00mmain_output_path\u001b[38;5;132;01m}\u001b[39;00m\u001b[38;5;124m/\u001b[39m\u001b[38;5;132;01m{\u001b[39;00mmodel_name\u001b[38;5;132;01m}\u001b[39;00m\u001b[38;5;124m/\u001b[39m\u001b[38;5;132;01m{\u001b[39;00mprompt\u001b[38;5;132;01m}\u001b[39;00m\u001b[38;5;124m'\u001b[39m\n\u001b[1;32m      5\u001b[0m os\u001b[38;5;241m.\u001b[39mmakedirs(output_path, exist_ok\u001b[38;5;241m=\u001b[39m\u001b[38;5;28;01mTrue\u001b[39;00m)\n\u001b[0;32m----> 6\u001b[0m grids \u001b[38;5;241m=\u001b[39m \u001b[43mmodel_class\u001b[49m\u001b[38;5;241;43m.\u001b[39;49m\u001b[43mforward\u001b[49m\u001b[43m(\u001b[49m\u001b[43mprompt\u001b[49m\u001b[43m,\u001b[49m\u001b[43m \u001b[49m\u001b[43mnum_images\u001b[49m\u001b[38;5;241;43m=\u001b[39;49m\u001b[43mmodel_class\u001b[49m\u001b[38;5;241;43m.\u001b[39;49m\u001b[43mnum_images\u001b[49m\u001b[43m,\u001b[49m\u001b[43m \u001b[49m\n\u001b[1;32m      7\u001b[0m \u001b[43m                    \u001b[49m\u001b[43moutput_path\u001b[49m\u001b[38;5;241;43m=\u001b[39;49m\u001b[43moutput_path\u001b[49m\u001b[43m,\u001b[49m\u001b[43m \u001b[49m\n\u001b[1;32m      8\u001b[0m \u001b[43m                    \u001b[49m\u001b[43msave_grid\u001b[49m\u001b[38;5;241;43m=\u001b[39;49m\u001b[38;5;28;43;01mTrue\u001b[39;49;00m\u001b[43m,\u001b[49m\u001b[43m \u001b[49m\n\u001b[1;32m      9\u001b[0m \u001b[43m                    \u001b[49m\u001b[43msave_per_image\u001b[49m\u001b[38;5;241;43m=\u001b[39;49m\u001b[38;5;28;43;01mFalse\u001b[39;49;00m\u001b[43m,\u001b[49m\u001b[43m \u001b[49m\n\u001b[1;32m     10\u001b[0m \u001b[43m                    \u001b[49m\u001b[43mreturn_grids\u001b[49m\u001b[38;5;241;43m=\u001b[39;49m\u001b[43mreturn_grids\u001b[49m\u001b[43m,\u001b[49m\n\u001b[1;32m     11\u001b[0m \u001b[43m                    \u001b[49m\u001b[43mskip_layers\u001b[49m\u001b[38;5;241;43m=\u001b[39;49m\u001b[43mskip_layers\u001b[49m\u001b[43m,\u001b[49m\n\u001b[1;32m     12\u001b[0m \u001b[43m                    \u001b[49m\u001b[43mranges_to_keep\u001b[49m\u001b[38;5;241;43m=\u001b[39;49m\u001b[43mranges_to_keep\u001b[49m\u001b[43m,\u001b[49m\n\u001b[1;32m     13\u001b[0m \u001b[43m                    \u001b[49m\u001b[43mspecific_tokens\u001b[49m\u001b[38;5;241;43m=\u001b[39;49m\u001b[43mspecific_tokens\u001b[49m\n\u001b[1;32m     14\u001b[0m \u001b[43m                    \u001b[49m\u001b[38;5;66;43;03m# zero_paddings=False, \u001b[39;49;00m\n\u001b[1;32m     15\u001b[0m \u001b[43m                    \u001b[49m\u001b[38;5;66;43;03m# replace_with_pads=True,\u001b[39;49;00m\n\u001b[1;32m     16\u001b[0m \u001b[43m                    \u001b[49m\u001b[38;5;66;43;03m# turn_attention_off=False,\u001b[39;49;00m\n\u001b[1;32m     17\u001b[0m \u001b[43m                    \u001b[49m\u001b[43m)\u001b[49m\n\u001b[1;32m     18\u001b[0m \u001b[38;5;66;03m# print(\"done generating images for prompt:\", prompt)\u001b[39;00m\n\u001b[1;32m     19\u001b[0m \u001b[38;5;66;03m# for grid in grids:\u001b[39;00m\n\u001b[1;32m     20\u001b[0m \u001b[38;5;66;03m#     grid.show()\u001b[39;00m\n",
      "File \u001b[0;32m~/diffusers/lens/diffusers_wrapper.py:170\u001b[0m, in \u001b[0;36mStableDiffusion3TextToImage.forward\u001b[0;34m(self, prompt, num_images, output_path, save_grid, save_per_image, return_grids, skip_layers, ranges_to_keep, specific_tokens)\u001b[0m\n\u001b[1;32m    168\u001b[0m grids \u001b[38;5;241m=\u001b[39m []\n\u001b[1;32m    169\u001b[0m \u001b[38;5;28;01mfor\u001b[39;00m skip_tokens_name, skip_tokens \u001b[38;5;129;01min\u001b[39;00m ranges_to_try\u001b[38;5;241m.\u001b[39mitems():\n\u001b[0;32m--> 170\u001b[0m     pipe_output \u001b[38;5;241m=\u001b[39m \u001b[38;5;28;43mself\u001b[39;49m\u001b[38;5;241;43m.\u001b[39;49m\u001b[43mpipe\u001b[49m\u001b[43m(\u001b[49m\u001b[43mprompt\u001b[49m\u001b[43m,\u001b[49m\u001b[43m \u001b[49m\u001b[43mnum_images_per_prompt\u001b[49m\u001b[38;5;241;43m=\u001b[39;49m\u001b[43mnum_images\u001b[49m\u001b[43m,\u001b[49m\u001b[43m \u001b[49m\u001b[43mgenerator\u001b[49m\u001b[38;5;241;43m=\u001b[39;49m\u001b[38;5;28;43mself\u001b[39;49m\u001b[38;5;241;43m.\u001b[39;49m\u001b[43mgenerator\u001b[49m\u001b[43m,\u001b[49m\u001b[43m \u001b[49m\u001b[43mskip_tokens\u001b[49m\u001b[38;5;241;43m=\u001b[39;49m\u001b[43mskip_tokens\u001b[49m\u001b[43m,\u001b[49m\u001b[43m \u001b[49m\u001b[43mclip_skip\u001b[49m\u001b[38;5;241;43m=\u001b[39;49m\u001b[43mskip_layers\u001b[49m\u001b[43m,\u001b[49m\u001b[43m \u001b[49m\u001b[43mnum_inference_steps\u001b[49m\u001b[38;5;241;43m=\u001b[39;49m\u001b[38;5;241;43m50\u001b[39;49m\u001b[43m)\u001b[49m\n\u001b[1;32m    171\u001b[0m     images \u001b[38;5;241m=\u001b[39m pipe_output\u001b[38;5;241m.\u001b[39mimages\n\u001b[1;32m    172\u001b[0m     grid \u001b[38;5;241m=\u001b[39m \u001b[38;5;28mself\u001b[39m\u001b[38;5;241m.\u001b[39msave_images(images, output_path, skip_tokens_name, save_grid, save_per_image, return_grids, skip_layers)\n",
      "File \u001b[0;32m~/miniconda3/envs/lens/lib/python3.9/site-packages/torch/utils/_contextlib.py:116\u001b[0m, in \u001b[0;36mcontext_decorator.<locals>.decorate_context\u001b[0;34m(*args, **kwargs)\u001b[0m\n\u001b[1;32m    113\u001b[0m \u001b[38;5;129m@functools\u001b[39m\u001b[38;5;241m.\u001b[39mwraps(func)\n\u001b[1;32m    114\u001b[0m \u001b[38;5;28;01mdef\u001b[39;00m \u001b[38;5;21mdecorate_context\u001b[39m(\u001b[38;5;241m*\u001b[39margs, \u001b[38;5;241m*\u001b[39m\u001b[38;5;241m*\u001b[39mkwargs):\n\u001b[1;32m    115\u001b[0m     \u001b[38;5;28;01mwith\u001b[39;00m ctx_factory():\n\u001b[0;32m--> 116\u001b[0m         \u001b[38;5;28;01mreturn\u001b[39;00m \u001b[43mfunc\u001b[49m\u001b[43m(\u001b[49m\u001b[38;5;241;43m*\u001b[39;49m\u001b[43margs\u001b[49m\u001b[43m,\u001b[49m\u001b[43m \u001b[49m\u001b[38;5;241;43m*\u001b[39;49m\u001b[38;5;241;43m*\u001b[39;49m\u001b[43mkwargs\u001b[49m\u001b[43m)\u001b[49m\n",
      "\u001b[0;31mTypeError\u001b[0m: __call__() got an unexpected keyword argument 'skip_tokens'"
     ]
    }
   ],
   "source": [
    "# Inference\n",
    "for prompt, specific_tokens in zip(prompts, specific_tokens_per_prompt):\n",
    "    print(\"generating images for prompt:\", prompt)\n",
    "    output_path = f'{main_output_path}/{model_name}/{prompt}'\n",
    "    os.makedirs(output_path, exist_ok=True)\n",
    "    pad_encoders = [1,2] # 1,2 for clips, 3 for T5\n",
    "    grids = model_class.forward(prompt, num_images=model_class.num_images, \n",
    "                        output_path=output_path, \n",
    "                        save_grid=True, \n",
    "                        save_per_image=False, \n",
    "                        return_grids=return_grids,\n",
    "                        skip_layers=skip_layers,\n",
    "                        ranges_to_keep=ranges_to_keep,\n",
    "                        specific_tokens=specific_tokens,\n",
    "                        pad_encoders=pad_encoders,\n",
    "                        # zero_paddings=False, \n",
    "                        # replace_with_pads=True,\n",
    "                        # turn_attention_off=False,\n",
    "                        )\n",
    "    # print(\"done generating images for prompt:\", prompt)\n",
    "    # for grid in grids:\n",
    "    #     grid.show()"
   ]
  },
  {
   "cell_type": "code",
   "execution_count": null,
   "id": "de70af03",
   "metadata": {},
   "outputs": [],
   "source": []
  }
 ],
 "metadata": {
  "kernelspec": {
   "display_name": "lens",
   "language": "python",
   "name": "python3"
  },
  "language_info": {
   "codemirror_mode": {
    "name": "ipython",
    "version": 3
   },
   "file_extension": ".py",
   "mimetype": "text/x-python",
   "name": "python",
   "nbconvert_exporter": "python",
   "pygments_lexer": "ipython3",
   "version": "3.9.20"
  }
 },
 "nbformat": 4,
 "nbformat_minor": 5
}
