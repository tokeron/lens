{
 "cells": [
  {
   "cell_type": "code",
   "execution_count": 1,
   "id": "64a7eb1708070083",
   "metadata": {
    "ExecuteTime": {
     "end_time": "2024-09-01T10:41:00.041179Z",
     "start_time": "2024-09-01T10:40:49.783052Z"
    }
   },
   "outputs": [],
   "source": [
    "from diffusers_wrapper import StableDiffusion3TextToImage, FluxTextToImage, StableDiffusion2TextToImage, StableDiffusionXLPipelineTextToImage\n",
    "import os"
   ]
  },
  {
   "cell_type": "code",
   "execution_count": 2,
   "id": "b5c4d621",
   "metadata": {},
   "outputs": [],
   "source": [
    "num_images = 4\n",
    "main_output_path = 'output'\n",
    "model_name = 'sd3' # 'sd2' or 'sd3' or 'sdxl' or 'flux-dev' or 'flux-schnell'\n",
    "max_sequence_lengths ={\n",
    "    'sd2': 77,\n",
    "    'sd3': 77,\n",
    "    'sdxl': 256,\n",
    "    'flux-dev': 512,\n",
    "    'flux-schnell': 256\n",
    "}\n",
    "max_sequence_length = max_sequence_lengths[model_name]"
   ]
  },
  {
   "cell_type": "code",
   "execution_count": 3,
   "id": "25b9447f",
   "metadata": {},
   "outputs": [
    {
     "data": {
      "application/vnd.jupyter.widget-view+json": {
       "model_id": "7053831e6f3e43d592f6a57e7f3f1505",
       "version_major": 2,
       "version_minor": 0
      },
      "text/plain": [
       "Loading pipeline components...:   0%|          | 0/9 [00:00<?, ?it/s]"
      ]
     },
     "metadata": {},
     "output_type": "display_data"
    },
    {
     "name": "stderr",
     "output_type": "stream",
     "text": [
      "You set `add_prefix_space`. The tokenizer needs to be converted from the slow tokenizers\n"
     ]
    },
    {
     "data": {
      "application/vnd.jupyter.widget-view+json": {
       "model_id": "00ac152c8a634a0abda6e880f7dac9cc",
       "version_major": 2,
       "version_minor": 0
      },
      "text/plain": [
       "Loading checkpoint shards:   0%|          | 0/2 [00:00<?, ?it/s]"
      ]
     },
     "metadata": {},
     "output_type": "display_data"
    }
   ],
   "source": [
    "\n",
    "if 'flux' in model_name:\n",
    "    ckpt_dir = ''\n",
    "    model_class = FluxTextToImage(model_name=model_name, ckpt_dir=ckpt_dir, num_images=num_images, \n",
    "                                  max_sequence_length=max_sequence_length)\n",
    "elif model_name == 'sd2':\n",
    "    model_name = model_name\n",
    "    ckpt_dir = ''\n",
    "    model_class = StableDiffusion2TextToImage(model_name=model_name, ckpt_dir=ckpt_dir, num_images=num_images)\n",
    "elif model_name == 'sd3':\n",
    "    model_name = model_name\n",
    "    ckpt_dir = ''\n",
    "    model_class = StableDiffusion3TextToImage(model_name=model_name, ckpt_dir=ckpt_dir, num_images=num_images, \n",
    "                                              max_sequence_length=max_sequence_length) \n",
    "elif model_name == 'sdxl':\n",
    "    model_name = model_name\n",
    "    ckpt_dir = ''\n",
    "    model_class = StableDiffusionXLPipelineTextToImage(model_name=model_name, ckpt_dir=ckpt_dir, num_images=num_images, \n",
    "                                                       max_sequence_length=max_sequence_length)\n",
    "else:\n",
    "    raise ValueError(\"Model name not found\")\n"
   ]
  },
  {
   "cell_type": "code",
   "execution_count": 4,
   "id": "b0546e04",
   "metadata": {},
   "outputs": [],
   "source": [
    "skip_layers = 0\n",
    "return_grids = True\n",
    "ranges_to_keep = ['full', 'tokens', 'specific_tokens']\n",
    "prompts = [\n",
    "    'kids playing in the playground',\n",
    "]\n",
    "specific_tokens_per_prompt = [\n",
    "    ['playground', 'playing']\n",
    "]\n"
   ]
  },
  {
   "cell_type": "code",
   "execution_count": null,
   "id": "38fef12a",
   "metadata": {},
   "outputs": [
    {
     "name": "stdout",
     "output_type": "stream",
     "text": [
      "generating images for prompt: kids playing in the playground\n",
      "Validated skip_layers: [0, 0, 0]\n",
      "Getting ranges for tokenizer\n",
      "Getting ranges for tokenizer_2\n",
      "Getting ranges for tokenizer_3\n",
      "Pad encoders:  None\n",
      "CLIP 1 is not padded\n",
      "self.tokenizer_max_length: 77\n"
     ]
    },
    {
     "name": "stdout",
     "output_type": "stream",
     "text": [
      "pooled_prompt_embeds shape:  torch.Size([1, 768])\n",
      "skip_tokens CLIP:  []\n",
      "replacing pooled_prompt_embeds with padding pooled_prompt_embeds\n",
      "CLIP 2 is not padded\n",
      "self.tokenizer_max_length: 77\n",
      "pooled_prompt_embeds shape:  torch.Size([1, 1280])\n",
      "skip_tokens CLIP:  []\n",
      "replacing pooled_prompt_embeds with padding pooled_prompt_embeds\n",
      "t5 is not padded\n",
      "max_sequence_length: 256\n",
      "skip_tokens (T5):  []\n",
      "self.tokenizer_max_length: 77\n",
      "pooled_prompt_embeds shape:  torch.Size([1, 768])\n",
      "self.tokenizer_max_length: 77\n",
      "pooled_prompt_embeds shape:  torch.Size([1, 1280])\n",
      "max_sequence_length: 256\n"
     ]
    },
    {
     "data": {
      "application/vnd.jupyter.widget-view+json": {
       "model_id": "dbd31e7e685540b5b8bb3cf9738893c1",
       "version_major": 2,
       "version_minor": 0
      },
      "text/plain": [
       "  0%|          | 0/50 [00:00<?, ?it/s]"
      ]
     },
     "metadata": {},
     "output_type": "display_data"
    },
    {
     "name": "stdout",
     "output_type": "stream",
     "text": [
      "Creating image grid for 4 images\n",
      "Pad encoders:  None\n",
      "CLIP 1 is not padded\n",
      "self.tokenizer_max_length: 77\n",
      "pooled_prompt_embeds shape:  torch.Size([1, 768])\n",
      "skip_tokens CLIP:  [7, 8, 9, 10, 11, 12, 13, 14, 15, 16, 17, 18, 19, 20, 21, 22, 23, 24, 25, 26, 27, 28, 29, 30, 31, 32, 33, 34, 35, 36, 37, 38, 39, 40, 41, 42, 43, 44, 45, 46, 47, 48, 49, 50, 51, 52, 53, 54, 55, 56, 57, 58, 59, 60, 61, 62, 63, 64, 65, 66, 67, 68, 69, 70, 71, 72, 73, 74, 75, 76]\n",
      "replacing pooled_prompt_embeds with padding pooled_prompt_embeds\n",
      "CLIP 2 is not padded\n",
      "self.tokenizer_max_length: 77\n",
      "pooled_prompt_embeds shape:  torch.Size([1, 1280])\n",
      "skip_tokens CLIP:  [7, 8, 9, 10, 11, 12, 13, 14, 15, 16, 17, 18, 19, 20, 21, 22, 23, 24, 25, 26, 27, 28, 29, 30, 31, 32, 33, 34, 35, 36, 37, 38, 39, 40, 41, 42, 43, 44, 45, 46, 47, 48, 49, 50, 51, 52, 53, 54, 55, 56, 57, 58, 59, 60, 61, 62, 63, 64, 65, 66, 67, 68, 69, 70, 71, 72, 73, 74, 75, 76]\n",
      "replacing pooled_prompt_embeds with padding pooled_prompt_embeds\n",
      "t5 is not padded\n",
      "max_sequence_length: 256\n",
      "skip_tokens (T5):  [6, 7, 8, 9, 10, 11, 12, 13, 14, 15, 16, 17, 18, 19, 20, 21, 22, 23, 24, 25, 26, 27, 28, 29, 30, 31, 32, 33, 34, 35, 36, 37, 38, 39, 40, 41, 42, 43, 44, 45, 46, 47, 48, 49, 50, 51, 52, 53, 54, 55, 56, 57, 58, 59, 60, 61, 62, 63, 64, 65, 66, 67, 68, 69, 70, 71, 72, 73, 74, 75, 76]\n",
      "self.tokenizer_max_length: 77\n",
      "pooled_prompt_embeds shape:  torch.Size([1, 768])\n",
      "self.tokenizer_max_length: 77\n",
      "pooled_prompt_embeds shape:  torch.Size([1, 1280])\n",
      "max_sequence_length: 256\n"
     ]
    },
    {
     "data": {
      "application/vnd.jupyter.widget-view+json": {
       "model_id": "9ca2a8a14ff14b1cb2cd46da162014ca",
       "version_major": 2,
       "version_minor": 0
      },
      "text/plain": [
       "  0%|          | 0/50 [00:00<?, ?it/s]"
      ]
     },
     "metadata": {},
     "output_type": "display_data"
    }
   ],
   "source": [
    "# Inference\n",
    "for prompt, specific_tokens in zip(prompts, specific_tokens_per_prompt):\n",
    "    print(\"generating images for prompt:\", prompt)\n",
    "    output_path = f'{main_output_path}/{model_name}'\n",
    "    os.makedirs(output_path, exist_ok=True)\n",
    "    grids = model_class.forward(prompt, num_images=model_class.num_images, \n",
    "                        output_path=output_path, \n",
    "                        save_grid=False, \n",
    "                        save_per_image=False, \n",
    "                        return_grids=return_grids,\n",
    "                        skip_layers=skip_layers,\n",
    "                        ranges_to_keep=ranges_to_keep,\n",
    "                        specific_tokens=specific_tokens,\n",
    "\n",
    "                        # zero_paddings=False, \n",
    "                        # replace_with_pads=True,\n",
    "                        # turn_attention_off=False,\n",
    "                        )\n",
    "    print(\"done generating images for prompt:\", prompt)\n",
    "    for grid in grids:\n",
    "        grid.show()"
   ]
  },
  {
   "cell_type": "code",
   "execution_count": null,
   "id": "de70af03",
   "metadata": {},
   "outputs": [],
   "source": []
  }
 ],
 "metadata": {
  "kernelspec": {
   "display_name": "OA",
   "language": "python",
   "name": "python3"
  },
  "language_info": {
   "codemirror_mode": {
    "name": "ipython",
    "version": 3
   },
   "file_extension": ".py",
   "mimetype": "text/x-python",
   "name": "python",
   "nbconvert_exporter": "python",
   "pygments_lexer": "ipython3",
   "version": "3.9.16"
  }
 },
 "nbformat": 4,
 "nbformat_minor": 5
}
